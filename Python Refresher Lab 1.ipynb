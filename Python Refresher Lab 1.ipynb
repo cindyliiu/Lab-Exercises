{
 "cells": [
  {
   "cell_type": "markdown",
   "id": "1e0b651f",
   "metadata": {},
   "source": [
    "#### 1. See the list below. Please write a program that will tell you what the longest word is in the list. Package your program inside of a function."
   ]
  },
  {
   "cell_type": "code",
   "execution_count": 29,
   "id": "9bae0290",
   "metadata": {},
   "outputs": [
    {
     "name": "stdout",
     "output_type": "stream",
     "text": [
      "chestnut\n"
     ]
    },
    {
     "data": {
      "text/plain": [
       "{'apple': 5,\n",
       " 'chestnut': 8,\n",
       " 'gargoyle': 8,\n",
       " 'pandas': 6,\n",
       " 'sheep': 5,\n",
       " 'raptor': 6}"
      ]
     },
     "execution_count": 29,
     "metadata": {},
     "output_type": "execute_result"
    }
   ],
   "source": [
    "list = [\"apple\", \"chestnut\", \"gargoyle\", \"pandas\", \"sheep\", \"raptor\"]\n",
    "dict_list = {} \n",
    "\n",
    "def longest():\n",
    "    for i in list:\n",
    "        length = len(i)\n",
    "        dict_list[i] = length\n",
    "    print(max(dict_list, key=dict_list.get))\n",
    "            \n",
    "longest()\n",
    "dict_list\n",
    "\n",
    "# https://www.entechin.com/how-to-find-the-max-value-in-a-dictionary-in-python/#:~:text=Method%201%3A%20using%20Max%20(),key3%20is%20the%20largest%20key.&text=In%20case%20of%20values%2C%20the,highest%20value%20in%20the%20dictionary."
   ]
  },
  {
   "cell_type": "markdown",
   "id": "2a11482f",
   "metadata": {},
   "source": [
    "#### 2. Now that you have built the program above, in a new cell, edit your program: import a .txt file of a list of words and have your program randomly choose 7 words from the file to add to a list, and then have the program determine the longest word as you did above."
   ]
  },
  {
   "cell_type": "code",
   "execution_count": 3,
   "id": "d7a2f086",
   "metadata": {},
   "outputs": [
    {
     "name": "stdout",
     "output_type": "stream",
     "text": [
      "UNFOSSILIFEROUS\n"
     ]
    },
    {
     "data": {
      "text/plain": [
       "{'UNFOSSILIFEROUS': 15,\n",
       " 'EFFIGIES': 8,\n",
       " 'BETOKENS': 8,\n",
       " 'REMITTER': 8,\n",
       " 'PLANTSWOMAN': 11,\n",
       " 'SLIPPERY': 8,\n",
       " 'ECLIPTICALLY': 12}"
      ]
     },
     "execution_count": 3,
     "metadata": {},
     "output_type": "execute_result"
    }
   ],
   "source": [
    "import random\n",
    "sowpods = \"sowpods.txt\"\n",
    "list = []\n",
    "dict_list = {}\n",
    "\n",
    "def long(num):\n",
    "    filename = sowpods\n",
    "    f = open(filename, \"r\", encoding = \"utf8\")\n",
    "    words = f.readlines()\n",
    "    f.close()\n",
    "    \n",
    "    for i in range(1, num + 1):\n",
    "        new = random.choice(words).strip()\n",
    "        list.append(new)\n",
    "        \n",
    "    for i in list:\n",
    "        length = len(i)\n",
    "        dict_list[i] = length\n",
    "    \n",
    "    print(max(dict_list, key=dict_list.get))  \n",
    "    \n",
    "long(7)\n",
    "dict_list"
   ]
  },
  {
   "cell_type": "markdown",
   "id": "8839fa87",
   "metadata": {},
   "source": [
    "#### 3. Pretend that you're going to be leading a review session on dictionaries. Build a program that uses dictionaries and incorporates at least 4 built-in methods. "
   ]
  },
  {
   "cell_type": "code",
   "execution_count": 4,
   "id": "14ced6a1",
   "metadata": {},
   "outputs": [
    {
     "name": "stdout",
     "output_type": "stream",
     "text": [
      "Hi! Welcome to Dunkin Donuts.\n",
      "Would you like to see the menu?\n",
      "yes / noyes\n",
      "dict_keys(['Espresso', 'Tea', 'Donut', 'Sandwich'])\n",
      "What would you like to order?donut\n",
      "You also get a free item with your purchase today.\n",
      "{'Espresso': '$1.79', 'Tea': '2.31', 'Donut': '1.45', 'Sandwich': '4.56'}\n",
      "What would you like?espresso\n",
      "Sounds good! Here is your order.\n",
      "We are also asking for feedback on our menu.\n",
      "Would the removal of the tea drink be a good decision?\n",
      "yes / noyes\n",
      "Here is the updated menu!\n",
      "{'Espresso': '$1.79', 'Donut': '1.45', 'Sandwich': '4.56'}\n",
      "We appreciate the help!\n",
      "Come again! Enjoy your day.\n"
     ]
    }
   ],
   "source": [
    "# Dunkin Donuts Order\n",
    "\n",
    "menu = {\"Espresso\": \"$1.79\", \"Tea\": \"2.31\", \n",
    "        \"Donut\": \"1.45\", \"Sandwich\": \"4.56\"}\n",
    "snack = {\"Donut\": \"1.45\", \"Wrap\": \"4.53\", \"Sandwich\": \"4.56\"}\n",
    "drink = {\"Espresso\": \"$1.79\", \"Tea\": \"2.31\", \"Latte\": \"3.25\"}\n",
    "\n",
    "import time\n",
    "\n",
    "print(\"Hi! Welcome to Dunkin Donuts.\")\n",
    "time.sleep(1)\n",
    "print(\"Would you like to see the menu?\")\n",
    "view = input(\"yes / no\")\n",
    "\n",
    "if view == \"yes\":\n",
    "    print(menu.keys())\n",
    "    order = input(\"What would you like to order?\")\n",
    "    if order == \"Espresso\":\n",
    "        print(\"Sounds good! The price is\", menu.get(\"Espresso\"))\n",
    "    if order == \"Tea\":\n",
    "        print(\"Sounds good! The price is\", menu.get(\"Tea\"))\n",
    "    if order == \"Donut\":\n",
    "        print(\"Sounds good! The price is\", menu.get(\"Donut\")) \n",
    "    if order == \"Sandwich\":\n",
    "        print(\"Sounds good! The price is\", menu.get(\"Sandwich\"))    \n",
    "    print(\"You also get a free item with your purchase today.\")\n",
    "    print(menu.copy())\n",
    "    free = input(\"What would you like?\")\n",
    "    print(\"Sounds good! Here is your order.\")\n",
    "    print(\"We are also asking for feedback on our menu.\")\n",
    "    print(\"Would the removal of the tea drink be a good decision?\")\n",
    "    feedback = input(\"yes / no\")\n",
    "    if feedback == \"yes\":\n",
    "        menu.pop(\"Tea\")\n",
    "        print(\"Here is the updated menu!\")\n",
    "        print(menu)\n",
    "    print(\"We appreciate the help!\")\n",
    "    print(\"Come again! Enjoy your day.\")\n",
    "else:\n",
    "    print(\"Thank you for visiting!\")"
   ]
  },
  {
   "cell_type": "markdown",
   "id": "2dc42fd6",
   "metadata": {},
   "source": [
    "#### 4. Using OOP, I want you to build one of the following things. As part of the excerise, please write out your brainstorming process in a comment or markdown cell. "
   ]
  },
  {
   "cell_type": "markdown",
   "id": "93b6e2e5",
   "metadata": {},
   "source": [
    "A class (or series of classes) to correspond with a gameplay (for example, a fighter class, a bard class, a wizard class). "
   ]
  },
  {
   "cell_type": "markdown",
   "id": "e1f04fe3",
   "metadata": {},
   "source": [
    "Brainstorming: \n",
    "1. Define the class name\n",
    "2. Initialization\n",
    "3. Create methods for the fighter, bard, and wizard class"
   ]
  },
  {
   "cell_type": "code",
   "execution_count": 6,
   "id": "86a5dbc4",
   "metadata": {},
   "outputs": [
    {
     "name": "stdout",
     "output_type": "stream",
     "text": [
      "Welcome Fighter Cindy\n",
      "You have been designated an instinctual fighter\n",
      "Welcome Bard Cindy\n",
      "You have been designated a songwriter\n",
      "Welcome Wizard Cindy\n",
      "You have the powers of fire\n"
     ]
    }
   ],
   "source": [
    "import random\n",
    "\n",
    "class Gameplay:\n",
    "    def __init__(self, name):\n",
    "        self.name = name\n",
    "        \n",
    "    def fighter(self):\n",
    "        print(\"Welcome Fighter\", self.name)\n",
    "        kind = [\"intellectual\", \"instinctual\", \"emotional\"]\n",
    "        type = random.choice(kind)\n",
    "        print(\"You have been designated an\", type, \"fighter\")\n",
    "        \n",
    "    def bard(self):\n",
    "        print(\"Welcome Bard\", self.name)\n",
    "        speciality = [\"poet\", \"songwriter\", \"entertainer\"]\n",
    "        select = random.choice(speciality)\n",
    "        print(\"You have been designated a\", select)\n",
    "        \n",
    "    def wizard(self):\n",
    "        print(\"Welcome Wizard\", self.name)\n",
    "        magic = [\"lightning\", \"fire\", \"ice\", \"air\"]\n",
    "        use = random.choice(magic)\n",
    "        print(\"You have the powers of\", use)\n",
    "        \n",
    "char1 = Gameplay(\"Cindy\")\n",
    "char1.fighter()\n",
    "char1.bard()\n",
    "char1.wizard()"
   ]
  },
  {
   "cell_type": "markdown",
   "id": "0e775444",
   "metadata": {},
   "source": [
    "#### 5. Finalize your Hangman program and submit it. Include any necessary comments and explain what you had \"refreshed\" by building it in class. If appropriate, use functions or OOP to package the pieces of your code."
   ]
  },
  {
   "cell_type": "code",
   "execution_count": 4,
   "id": "ea6b688c",
   "metadata": {},
   "outputs": [
    {
     "name": "stdout",
     "output_type": "stream",
     "text": [
      "Enter a letter: a\n",
      "Correct! There is one or more a in the secret word.\n",
      "_ _ _ _ _ a_ _ _ _ _ Enter a letter: i\n",
      "Correct! There is one or more i in the secret word.\n",
      "_ _ _ i_ a_ i_ _ _ Enter a letter: o\n",
      "Correct! There is one or more o in the secret word.\n",
      "_ _ _ i_ a_ io_ _ Enter a letter: t\n",
      "Correct! There is one or more t in the secret word.\n",
      "_ _ ti_ atio_ _ Enter a letter: n\n",
      "Correct! There is one or more n in the secret word.\n",
      "_ _ ti_ ation_ Enter a letter: l\n",
      "Wrong! There is no l in the secret word. 5 guesses left.\n",
      "_ _ ti_ ation_ Enter a letter: p\n",
      "Wrong! There is no p in the secret word. 4 guesses left.\n",
      "_ _ ti_ ation_ Enter a letter: u\n",
      "Wrong! There is no u in the secret word. 3 guesses left.\n",
      "_ _ ti_ ation_ Enter a letter: e\n",
      "Correct! There is one or more e in the secret word.\n",
      "e_ ti_ ation_ Enter a letter: v\n",
      "Correct! There is one or more v in the secret word.\n",
      "e_ tivation_ Enter a letter: c\n",
      "Wrong! There is no c in the secret word. 2 guesses left.\n",
      "e_ tivation_ Enter a letter: r\n",
      "Wrong! There is no r in the secret word. 1 guesses left.\n",
      "e_ tivation_ Enter a letter: j\n",
      "Wrong! There is no j in the secret word. 0 guesses left.\n",
      "e_ tivation_ You lost! The secret word is estivations\n"
     ]
    }
   ],
   "source": [
    "#Changes: Realized that all user inputs for letters were incorrect because the Sowpods words were all capitalized. \n",
    "\n",
    "import random\n",
    "sowpods = \"sowpods.txt\"\n",
    "\n",
    "def word_generator():\n",
    "    filename = sowpods\n",
    "    f = open(filename, \"r\", encoding = \"utf8\")\n",
    "    words = f.readlines()\n",
    "    f.close\n",
    "    \n",
    "    return random.choice(words).strip()\n",
    "\n",
    "secret_word = word_generator().lower()\n",
    "guessed_letters = \"\"\n",
    "attempts = 6\n",
    "\n",
    "while attempts > 0:\n",
    "    guess = input(\"Enter a letter: \")\n",
    "    \n",
    "    if guess in secret_word:\n",
    "        print(f\"Correct! There is one or more {guess} in the secret word.\")\n",
    "    else:\n",
    "        attempts -= 1\n",
    "        print(f\"Wrong! There is no {guess} in the secret word. {attempts} guesses left.\")\n",
    "        \n",
    "    guessed_letters = guessed_letters + guess\n",
    "    wrong_letters = 0\n",
    "    \n",
    "    for letter in secret_word:\n",
    "        if letter in guessed_letters:\n",
    "            print(f\"{letter}\", end=\"\")\n",
    "        else:\n",
    "            print(\"_ \", end=\"\")\n",
    "            wrong_letters += 1\n",
    "                  \n",
    "    if wrong_letters == 0:\n",
    "        print(f\"Congrats! The secret word is {secret_word}. You win!\")\n",
    "        break\n",
    "else:\n",
    "        print(f\"You lost! The secret word is {secret_word}\")"
   ]
  }
 ],
 "metadata": {
  "kernelspec": {
   "display_name": "Python 3 (ipykernel)",
   "language": "python",
   "name": "python3"
  },
  "language_info": {
   "codemirror_mode": {
    "name": "ipython",
    "version": 3
   },
   "file_extension": ".py",
   "mimetype": "text/x-python",
   "name": "python",
   "nbconvert_exporter": "python",
   "pygments_lexer": "ipython3",
   "version": "3.9.12"
  }
 },
 "nbformat": 4,
 "nbformat_minor": 5
}
