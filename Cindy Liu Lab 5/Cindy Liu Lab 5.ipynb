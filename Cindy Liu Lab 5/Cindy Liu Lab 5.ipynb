{
 "cells": [
  {
   "cell_type": "markdown",
   "id": "47fdf01d",
   "metadata": {},
   "source": [
    "Follow the 3rd Python Selenium Tutorial on your own. Submit the correct code with comments explaining what each element is doing."
   ]
  },
  {
   "cell_type": "code",
   "execution_count": null,
   "id": "55a1babd",
   "metadata": {},
   "outputs": [],
   "source": [
    "import selenium"
   ]
  },
  {
   "cell_type": "code",
   "execution_count": null,
   "id": "84ac17db",
   "metadata": {},
   "outputs": [],
   "source": [
    "from selenium import webdriver\n",
    "from selenium.webdriver.chrome.service import Service\n",
    "from selenium.webdriver.common.keys import Keys\n",
    "from selenium.webdriver.common.by import By\n",
    "from selenium.webdriver.support.ui import WebDriverWait\n",
    "from selenium.webdriver.support import expected_conditions as EC"
   ]
  },
  {
   "cell_type": "code",
   "execution_count": null,
   "id": "b3f9cf6b",
   "metadata": {},
   "outputs": [],
   "source": [
    "PATH = Service(\"/Users/cindy/Downloads/chromedriver_mac64/chromedriver.exe\")\n",
    "driver = webdriver.Chrome(service=PATH)\n",
    "\n",
    "driver.get(\"https://techwithtim.net\")"
   ]
  },
  {
   "cell_type": "code",
   "execution_count": null,
   "id": "07f2afc1",
   "metadata": {},
   "outputs": [],
   "source": [
    "#type the text that would show up for a link and access the element from that\n",
    "\n",
    "link = driver.find_element(By.LINK_TEXT,\"Python Programming\")\n",
    "link.click"
   ]
  },
  {
   "cell_type": "code",
   "execution_count": null,
   "id": "3c0d1a3f",
   "metadata": {},
   "outputs": [],
   "source": [
    "#click on the link \"Beginner Python Tutorial\"  \n",
    "#click on the \"Get Started\" button\n",
    "#return to the home page\n",
    "\n",
    "#wait code: try clause delays program to prevent errors \n",
    "try:\n",
    "    element = WebDriverWait(driver, 10).until(  \n",
    "    EC.presence_of_element_located((By.LINK_TEXT, \"Beginner Python Tutorials\"))\n",
    "    )\n",
    "    element.clear()\n",
    "    element.click()\n",
    "    \n",
    "    element = WebDriverWait(driver, 10).until(  \n",
    "    EC.presence_of_element_located((By.ID, \"sow-button-19310003\"))\n",
    "    )\n",
    "    element.click()\n",
    "    \n",
    "    driver.back()\n",
    "    driver.back()\n",
    "    driver.back()\n",
    "    driver.forward()\n",
    "    driver.forward()\n",
    "    \n",
    "except:\n",
    "        driver.quit()"
   ]
  },
  {
   "cell_type": "markdown",
   "id": "6cf50e8b",
   "metadata": {},
   "source": [
    "Take what we learned and try to scrape another website. Go to https://data.gov/ and use selenium to click the data button - then use it to type in “climate change” into the search bar. Scrape the titles and descriptions of the results that come up. Store them in a CSV file."
   ]
  },
  {
   "cell_type": "code",
   "execution_count": null,
   "id": "e964c7f5",
   "metadata": {},
   "outputs": [],
   "source": [
    "import selenium\n",
    "from selenium import webdriver\n",
    "from selenium.webdriver.chrome.service import Service\n",
    "from selenium.webdriver.common.keys import Keys\n",
    "from selenium.webdriver.common.by import By\n",
    "from selenium.webdriver.support.ui import WebDriverWait\n",
    "from selenium.webdriver.support import expected_conditions as EC"
   ]
  },
  {
   "cell_type": "code",
   "execution_count": null,
   "id": "d00d743a",
   "metadata": {},
   "outputs": [],
   "source": [
    "PATH = Service(\"/Users/cindy/Downloads/chromedriver_mac64/chromedriver.exe\")\n",
    "driver = webdriver.Chrome(service=PATH)\n",
    "\n",
    "driver.get(\"https://data.gov/\")"
   ]
  },
  {
   "cell_type": "code",
   "execution_count": null,
   "id": "3ac2783d",
   "metadata": {},
   "outputs": [],
   "source": [
    "link = driver.find_element(By.LINK_TEXT,\"DATA\")\n",
    "link.click\n",
    "link.send_keys(\"climate change\")\n",
    "link.send_keys(Keys.RETURN)"
   ]
  },
  {
   "cell_type": "code",
   "execution_count": null,
   "id": "119daa21",
   "metadata": {},
   "outputs": [],
   "source": [
    "from bs4 import BeautifulSoup\n",
    "import requests\n",
    "import html5lib\n",
    "import csv\n",
    "import pandas as pd"
   ]
  },
  {
   "cell_type": "code",
   "execution_count": null,
   "id": "7bcaaf13",
   "metadata": {},
   "outputs": [],
   "source": [
    "source = requests.get(\"https://catalog.data.gov/dataset?q=climate+change&sort=views_recent+desc&ext_location=&ext_bbox=&ext_prev_extent=-164.53125%2C-80.17871349622823%2C164.53125%2C80.17871349622823\").text\n",
    "soup = BeautifulSoup(source, \"lxml\")"
   ]
  },
  {
   "cell_type": "code",
   "execution_count": null,
   "id": "3b0fb9ff",
   "metadata": {
    "scrolled": true
   },
   "outputs": [],
   "source": [
    "section = soup.find(\"div\", class_=\"dataset-content\")\n",
    "print(section.prettify())"
   ]
  },
  {
   "cell_type": "code",
   "execution_count": null,
   "id": "06cc6158",
   "metadata": {},
   "outputs": [],
   "source": [
    "title = section.a.text\n",
    "print(title)"
   ]
  },
  {
   "cell_type": "code",
   "execution_count": null,
   "id": "5f48c98b",
   "metadata": {
    "scrolled": true
   },
   "outputs": [],
   "source": [
    "desc = section.find(\"div\", class_=\"notes\").text\n",
    "print(desc)"
   ]
  },
  {
   "cell_type": "code",
   "execution_count": null,
   "id": "f5c5681a",
   "metadata": {
    "scrolled": false
   },
   "outputs": [],
   "source": [
    "csv_file = open(\"data_scrape.csv\", \"w\", newline=\"\", encoding=\"utf-8\")\n",
    "csv_writer = csv.writer(csv_file)\n",
    "csv_writer.writerow([\"title\", \"desc\"])\n",
    "\n",
    "page = 1\n",
    "\n",
    "while page != 972:\n",
    "    source = requests.get(\"https://catalog.data.gov/dataset?q=climate+change&sort=views_recent+desc&ext_location=&ext_bbox=&ext_prev_extent=-164.53125%2C-80.17871349622823%2C164.53125%2C80.17871349622823\").text\n",
    "    soup = BeautifulSoup(source, \"lxml\")\n",
    "\n",
    "    for element in soup.find_all(\"div\", class_=\"module-content\"):\n",
    "        title = element.a.text\n",
    "        print(title)\n",
    "        \n",
    "        desc = element.find(\"div\", class_=\"notes\").text.strip()\n",
    "        print(desc)\n",
    "        \n",
    "    csv_writer.writerow([title, desc])\n",
    "    \n",
    "    page += 1\n",
    "        "
   ]
  },
  {
   "cell_type": "code",
   "execution_count": null,
   "id": "c1a573ca",
   "metadata": {},
   "outputs": [],
   "source": [
    "sheet = pd.read_csv(\"data_scrape.csv\")\n",
    "sheet"
   ]
  }
 ],
 "metadata": {
  "kernelspec": {
   "display_name": "Python 3 (ipykernel)",
   "language": "python",
   "name": "python3"
  },
  "language_info": {
   "codemirror_mode": {
    "name": "ipython",
    "version": 3
   },
   "file_extension": ".py",
   "mimetype": "text/x-python",
   "name": "python",
   "nbconvert_exporter": "python",
   "pygments_lexer": "ipython3",
   "version": "3.9.12"
  }
 },
 "nbformat": 4,
 "nbformat_minor": 5
}
