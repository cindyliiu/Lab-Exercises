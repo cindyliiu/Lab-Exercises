{
 "cells": [
  {
   "cell_type": "code",
   "execution_count": null,
   "id": "f522b364",
   "metadata": {},
   "outputs": [],
   "source": [
    "from selenium import webdriver\n",
    "from selenium.webdriver.chrome.service import Service\n",
    "from selenium.webdriver.common.keys import Keys\n",
    "from selenium.webdriver.common.by import By\n",
    "from selenium.webdriver.common.action_chains import ActionChains\n",
    "from selenium.webdriver.support.ui import WebDriverWait\n",
    "from selenium.webdriver.support import expected_conditions as EC"
   ]
  },
  {
   "cell_type": "code",
   "execution_count": null,
   "id": "0fc14a51",
   "metadata": {
    "scrolled": true
   },
   "outputs": [],
   "source": [
    "PATH = Service(\"/Users/cindy/Downloads/chromedriver_mac64/chromedriver.exe\")\n",
    "driver = webdriver.Chrome(service=PATH)\n",
    "\n",
    "driver.get(\"https://www.binghamton-ny.gov/home\")\n",
    "\n",
    "government = driver.find_element(By.XPATH, \"//*[@id='dropdownrootitem3']/a\")\n",
    "department = driver.find_element(By.XPATH, \"//*[@id='dropdownrootitem3']/div/div/ul[1]/li/a\")\n",
    "\n",
    "actions = ActionChains(driver)\n",
    "actions.move_to_element(government)\n",
    "actions.click(government)\n",
    "actions.click(department)\n",
    "actions.perform()\n",
    "\n",
    "try:\n",
    "    main = WebDriverWait(driver, 10).until(\n",
    "    EC.presence_of_element_located((By.XPATH, \"//*[@id='widget_4_33_127']/ul/li[16]/a\"))\n",
    "    )\n",
    "    main.click()\n",
    "    \n",
    "    main = WebDriverWait(driver, 10).until(\n",
    "    EC.presence_of_element_located((By.XPATH, \"//*[@id='leftNav_1038_0_145']/ul/li/ul/li[14]/ul/li/a\"))\n",
    "    )\n",
    "    main.click()\n",
    "    \n",
    "finally:\n",
    "    driver.quit()"
   ]
  },
  {
   "cell_type": "code",
   "execution_count": null,
   "id": "0353e0e7",
   "metadata": {},
   "outputs": [],
   "source": [
    "from bs4 import BeautifulSoup\n",
    "import requests\n",
    "import html5lib\n",
    "import csv\n",
    "import pandas as pd"
   ]
  },
  {
   "cell_type": "code",
   "execution_count": null,
   "id": "37a5b487",
   "metadata": {
    "scrolled": true
   },
   "outputs": [],
   "source": [
    "source = requests.get(\"https://www.binghamton-ny.gov/government/departments/personnel-civil-service/employment\").text\n",
    "soup = BeautifulSoup(source, \"lxml\")\n",
    "\n",
    "csv_file = open(\"employ_scrape.csv\", \"w\", newline=\"\", encoding=\"utf-8\")\n",
    "csv_writer = csv.writer(csv_file)\n",
    "csv_writer.writerow([\"Job\", \"Type\", \"Deadline\", \"Salary\"])\n",
    "\n",
    "table = soup.find(\"div\", class_=\"jobs_widget content_area clearfix\").find(\"table\").find(\"tbody\").find_all(\"tr\")\n",
    "\n",
    "for i in table:\n",
    "    for td in i:\n",
    "        info = td.text\n",
    "        print(info)\n",
    "\n",
    "#csv_writer.writerow([Job, Type, Deadline, Salary])\n",
    "\n",
    "#csv_file.close()"
   ]
  },
  {
   "cell_type": "code",
   "execution_count": null,
   "id": "51c2f1c1",
   "metadata": {},
   "outputs": [],
   "source": [
    "sheet = pd.read_csv(\"employ_scrape.csv\")\n",
    "sheet"
   ]
  }
 ],
 "metadata": {
  "kernelspec": {
   "display_name": "Python 3 (ipykernel)",
   "language": "python",
   "name": "python3"
  },
  "language_info": {
   "codemirror_mode": {
    "name": "ipython",
    "version": 3
   },
   "file_extension": ".py",
   "mimetype": "text/x-python",
   "name": "python",
   "nbconvert_exporter": "python",
   "pygments_lexer": "ipython3",
   "version": "3.9.12"
  }
 },
 "nbformat": 4,
 "nbformat_minor": 5
}
